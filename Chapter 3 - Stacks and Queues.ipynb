{
 "cells": [
  {
   "cell_type": "markdown",
   "id": "ad27520d-a7ea-40f8-9927-22e6f12eef86",
   "metadata": {},
   "source": [
    "<H1>Chapter 3 - Stacks and Queues</H1>"
   ]
  },
  {
   "cell_type": "markdown",
   "id": "286ebcc5",
   "metadata": {},
   "source": [
    "3.1 Three in One: Describe how you could use a single array to implement three stacks"
   ]
  },
  {
   "cell_type": "code",
   "execution_count": null,
   "id": "89d13683",
   "metadata": {},
   "outputs": [],
   "source": []
  },
  {
   "cell_type": "code",
   "execution_count": null,
   "id": "29dff419",
   "metadata": {},
   "outputs": [],
   "source": []
  },
  {
   "cell_type": "code",
   "execution_count": null,
   "id": "06f90597",
   "metadata": {},
   "outputs": [],
   "source": []
  }
 ],
 "metadata": {
  "kernelspec": {
   "display_name": "Python 3 (ipykernel)",
   "language": "python",
   "name": "python3"
  },
  "language_info": {
   "codemirror_mode": {
    "name": "ipython",
    "version": 3
   },
   "file_extension": ".py",
   "mimetype": "text/x-python",
   "name": "python",
   "nbconvert_exporter": "python",
   "pygments_lexer": "ipython3",
   "version": "3.11.1"
  }
 },
 "nbformat": 4,
 "nbformat_minor": 5
}
