{
 "cells": [
  {
   "cell_type": "markdown",
   "id": "0eec6c39-23c5-4284-9368-1ddeef6321b8",
   "metadata": {},
   "source": [
    "# Graph\n",
    "*Graph:** A graph is an ordered pair of vertices (nodes) and edges. G = (V,E)\n",
    "\n",
    "**ordered pair:**\n",
    "(a,b) != (b,a), if a != b\n",
    "\n",
    "contrasted with **unordered pair:**\n",
    "{a,b} = {b,a}\n",
    "\n",
    "An **edge** is represented as the names of the two end points, i.e. edge AB.\n",
    "\n",
    "Edges can be directed (one-way) or undirected (two-way). Undirected edges can be reprsented by an unordered pair.\n",
    "\n",
    "A graph with all directed edges is called a directed graph, and a graph with all undirected edges is called an undirected graph.\n",
    "\n",
    "An example of a directed graph could be a Webpage. An example of an undirected graph would be facebook friends.\n",
    "\n",
    "**Weighted graphs** associate a cost with each edge (i.e. distance)\n",
    "\n",
    "An edge that starts and ends at the same node is a self-loop. (i.e. a webpage with a link to itself). It's also possible for there to be two edges between the same nodes (for example, flights with different prices), this is called a multiedge.\n",
    "\n",
    "A graph with no self loops or multiedges is called a simple graph.\n",
    "\n",
    "For a simple graph of n Nodes, if all edges are directed, than we can have 0 to n(n-1) edges. if the edges are undirected, we can have 0 to (n(n-1))/2 edges. A graph is called *dense* if there are too many edges, and *sparse* if there are too few edges\n",
    "\n",
    "A tree is a type of graph that is *acyclical*, it cannot contain cycles (loops)"
   ]
  },
  {
   "cell_type": "code",
   "execution_count": null,
   "id": "736b8770-3c5f-4ccb-a7fb-6cc9b37f8931",
   "metadata": {},
   "outputs": [],
   "source": []
  }
 ],
 "metadata": {
  "kernelspec": {
   "display_name": "Python 3 (ipykernel)",
   "language": "python",
   "name": "python3"
  },
  "language_info": {
   "codemirror_mode": {
    "name": "ipython",
    "version": 3
   },
   "file_extension": ".py",
   "mimetype": "text/x-python",
   "name": "python",
   "nbconvert_exporter": "python",
   "pygments_lexer": "ipython3",
   "version": "3.11.1"
  }
 },
 "nbformat": 4,
 "nbformat_minor": 5
}
