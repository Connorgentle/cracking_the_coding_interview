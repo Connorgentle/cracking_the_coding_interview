{
 "cells": [
  {
   "cell_type": "markdown",
   "id": "1d67df89",
   "metadata": {},
   "source": [
    "A queue is a list or collection that has the restriction that items can only be removed from the front, and items can only be added from the rear. (FIFO system)\n",
    "\n",
    "It uses the following methods that, by definition, can be executed in constant time (O(1) time complexity):\n",
    "\n",
    "add(x) - adds x to the tail / rear item  \n",
    "\n",
    "remove() - removes the top / front\n",
    "\n",
    "peek() - returns the top / front item\n",
    "\n",
    "isEmpty() - boolean that tells us whether or not the queue is empty\n",
    "\n",
    "A queue can be implemented using an array or a linked list. With an array, we have to be careful to ensure that the array is circular, otherwise as we dequeue (remove) items, the size of the available places in the queue will shrink permanently.\n",
    "\n",
    "In general, implementing a queue as a linked list is better, because it avoids the problem described above, and we don't have to worry about the size of the list exceeding capacity. A linked list does however cost slightly more in terms of memory, since we are storing addresses as well as data. One other issue with the linked list implementation of a queue is that it costs O(N) time complexity to get to the tail / rear. To ensure that our our add(x) method can be run in constant time, we will have to create a link to the tail, similar to the link to the head, in our other implementation of linked lists."
   ]
  },
  {
   "cell_type": "code",
   "execution_count": 25,
   "id": "aa4cd57d",
   "metadata": {},
   "outputs": [],
   "source": [
    "#implementing a queue as a linked list\n",
    "\n",
    "class Node():\n",
    "    \n",
    "    def __init__(self,data):\n",
    "        self.data = data\n",
    "        self.next = None\n",
    "\n",
    "class Queue():\n",
    "    \n",
    "    def __init__(self):\n",
    "        self.front = None\n",
    "        self.rear = None\n",
    "        \n",
    "    def add(self,x):\n",
    "        \n",
    "        new_node = Node(x)\n",
    "        \n",
    "        #Queue is empty\n",
    "        if self.rear is None:\n",
    "            self.front = self.rear = new_node   \n",
    "        else:\n",
    "            self.rear.next = new_node\n",
    "            self.rear = new_node\n",
    "            \n",
    "    def remove(self):\n",
    "        \n",
    "        if self.front is None:\n",
    "            print(\"the Queue is empty, no items to remove\")\n",
    "        else:\n",
    "            self.front = self.front.next\n",
    "    \n",
    "    def peek(self):\n",
    "        \n",
    "        return self.front\n",
    "    \n",
    "    def isEmpty(self):\n",
    "        \n",
    "        if self.front is None:\n",
    "            return True\n",
    "        else:\n",
    "            return False\n",
    "        \n",
    "    def __repr__(self):\n",
    "        queue_front = [\"FRONT\",\"[\"]\n",
    "        queue_rear = [\"]\",\"REAR\"]\n",
    "        temp = self.front\n",
    "        while temp is not None:\n",
    "            queue_front.append(str(temp.data))\n",
    "            temp = temp.next\n",
    "        queue = queue_front+queue_rear\n",
    "        return \" \".join(queue)\n",
    "    \n",
    "\n",
    " \n",
    "\n",
    "   "
   ]
  },
  {
   "cell_type": "code",
   "execution_count": 28,
   "id": "d39e1c6a",
   "metadata": {},
   "outputs": [
    {
     "name": "stdout",
     "output_type": "stream",
     "text": [
      "FRONT [ 2 7 9 ] REAR\n"
     ]
    }
   ],
   "source": [
    "q = Queue()\n",
    "q.add(2)\n",
    "q.add(2)\n",
    "q.add(7)\n",
    "q.add(9)\n",
    "q.remove()\n",
    "\n",
    "\n",
    "\n",
    "print(repr(q))"
   ]
  },
  {
   "cell_type": "code",
   "execution_count": 29,
   "id": "87c509a2",
   "metadata": {},
   "outputs": [
    {
     "data": {
      "text/plain": [
       "False"
      ]
     },
     "execution_count": 29,
     "metadata": {},
     "output_type": "execute_result"
    }
   ],
   "source": [
    "q.isEmpty()"
   ]
  },
  {
   "cell_type": "code",
   "execution_count": 28,
   "id": "3df36666",
   "metadata": {
    "tags": []
   },
   "outputs": [],
   "source": [
    "#Implementing a Queue as an array\n",
    "\n",
    "class Queue:\n",
    "    \n",
    "    def __init__(self,queue=[]):\n",
    "        self.queue = queue\n",
    "        \n",
    "    def __repr__(self):\n",
    "        return str(self.queue)+\"<--FRONT\"\n",
    "    \n",
    "    def add(self,x):\n",
    "        self.queue.insert(0,x)\n",
    "        \n",
    "    def remove(self):\n",
    "        self.queue.pop()\n",
    "    \n",
    "    def peek(self):\n",
    "        if len(self.queue)!=0:\n",
    "            return self.queue[-1]\n",
    "        else:\n",
    "            print(\"the queue is empty\")\n",
    "        \n",
    "    def isEmpty(self):\n",
    "        return len(self.queue)==0\n",
    "        "
   ]
  },
  {
   "cell_type": "code",
   "execution_count": 29,
   "id": "9cdcdec3-29d9-4fe7-8ab1-54fe2ebc3876",
   "metadata": {
    "tags": []
   },
   "outputs": [
    {
     "name": "stdout",
     "output_type": "stream",
     "text": [
      "the queue is empty\n"
     ]
    },
    {
     "data": {
      "text/plain": [
       "True"
      ]
     },
     "execution_count": 29,
     "metadata": {},
     "output_type": "execute_result"
    }
   ],
   "source": [
    "my_queue = Queue([])\n",
    "\n",
    "my_queue.add(7)\n",
    "my_queue.add(15)\n",
    "my_queue.add(20)\n",
    "my_queue.remove()\n",
    "my_queue.remove()\n",
    "my_queue.remove()\n",
    "my_queue.peek()\n",
    "my_queue.isEmpty()\n",
    "\n",
    "#print(repr(my_queue))"
   ]
  },
  {
   "cell_type": "code",
   "execution_count": null,
   "id": "da625fe6-ab0b-4ff3-a2a4-a3985ec8a8ed",
   "metadata": {},
   "outputs": [],
   "source": []
  }
 ],
 "metadata": {
  "kernelspec": {
   "display_name": "Python 3 (ipykernel)",
   "language": "python",
   "name": "python3"
  },
  "language_info": {
   "codemirror_mode": {
    "name": "ipython",
    "version": 3
   },
   "file_extension": ".py",
   "mimetype": "text/x-python",
   "name": "python",
   "nbconvert_exporter": "python",
   "pygments_lexer": "ipython3",
   "version": "3.11.1"
  }
 },
 "nbformat": 4,
 "nbformat_minor": 5
}
