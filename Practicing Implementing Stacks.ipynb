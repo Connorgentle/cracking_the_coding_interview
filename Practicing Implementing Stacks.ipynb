{
 "cells": [
  {
   "cell_type": "markdown",
   "id": "749530fb",
   "metadata": {},
   "source": [
    "A stack is a LIFO system. Can be implemented using an array or a linked list. A common use case for a stack is when you need to reverse, or traverse backwards. The undo feature on your computer functions with the help of a stack.\n",
    "\n",
    "It's methods are:\n",
    "- push(x) to add x to the top of the stack (head)\n",
    "- pop() to pop (remove) the top (head) of the stack\n",
    "- isEmpty() returns whether or not the stack is empty\n",
    "- peek() or top() let's you look at the item at the top of the stack (without removing it from the stack)\n",
    "\n",
    "All of the methods should run in constant time complexity, by definition"
   ]
  },
  {
   "cell_type": "code",
   "execution_count": 47,
   "id": "959ec589",
   "metadata": {},
   "outputs": [],
   "source": [
    "#Implementing a stack using a linked list methodology\n",
    "\n",
    "class Node():\n",
    "    \n",
    "    def __init__(self,data):\n",
    "        self.data = data\n",
    "        self.next = None\n",
    "        \n",
    "class Stack():\n",
    "    \n",
    "    def __init__(self):\n",
    "        self.top = None\n",
    "    \n",
    "    def __repr__(self):\n",
    "        stack = [\"TOP\"]\n",
    "        temp = self.top\n",
    "        while temp is not None:\n",
    "            stack.append(str(temp.data))\n",
    "            temp = temp.next\n",
    "        return \"\\n\".join(stack)\n",
    "                \n",
    "        \n",
    "    def push(self,data):\n",
    "        new_node = Node(data)\n",
    "        \n",
    "        if self.top is None:\n",
    "            self.top = new_node\n",
    "        else:\n",
    "            new_node.next = self.top\n",
    "            self.top = new_node\n",
    "    \n",
    "    def pop(self):\n",
    "        \n",
    "        if self.top is None:\n",
    "            print('The stack is empty, cannot pop')\n",
    "        else:\n",
    "            top = self.top\n",
    "            self.top = self.top.next # remove top, by making it equal the next item\n",
    "            return top\n",
    "    \n",
    "    def isEmpty(self):\n",
    "        \n",
    "        if self.top is None:\n",
    "            return True\n",
    "        else:\n",
    "            return False\n",
    "    \n",
    "    def peek(self):\n",
    "        \n",
    "        return self.top.data\n",
    "            "
   ]
  },
  {
   "cell_type": "code",
   "execution_count": 48,
   "id": "f08479cc",
   "metadata": {},
   "outputs": [
    {
     "name": "stdout",
     "output_type": "stream",
     "text": [
      "TOP\n",
      "7\n"
     ]
    }
   ],
   "source": [
    "my_stack = Stack()\n",
    "\n",
    "my_stack.push(7)\n",
    "my_stack.push(3)\n",
    "my_stack.push(5)\n",
    "my_stack.push(8)\n",
    "\n",
    "my_stack.pop()\n",
    "my_stack.pop()\n",
    "my_stack.pop()\n",
    "\n",
    "\n",
    "\n",
    "print(repr(my_stack))"
   ]
  },
  {
   "cell_type": "code",
   "execution_count": 49,
   "id": "cdf2d5ab",
   "metadata": {},
   "outputs": [
    {
     "data": {
      "text/plain": [
       "False"
      ]
     },
     "execution_count": 49,
     "metadata": {},
     "output_type": "execute_result"
    }
   ],
   "source": [
    "my_stack.isEmpty()"
   ]
  },
  {
   "cell_type": "code",
   "execution_count": 50,
   "id": "43a9940c",
   "metadata": {},
   "outputs": [
    {
     "data": {
      "text/plain": [
       "7"
      ]
     },
     "execution_count": 50,
     "metadata": {},
     "output_type": "execute_result"
    }
   ],
   "source": [
    "my_stack.peek()"
   ]
  },
  {
   "cell_type": "code",
   "execution_count": 188,
   "id": "e58d2e23",
   "metadata": {},
   "outputs": [],
   "source": [
    "#practice problem, use stack to check for balances parenthesis\n",
    "\n",
    "\n",
    "def balanced(string):\n",
    "    \n",
    "    stack = Stack()\n",
    "    opening = ['(','[','{']\n",
    "    closing = [')',']','}']\n",
    "    pairs = {')':'(',']':'[','}':'{'}\n",
    "    \n",
    "    for char in string:\n",
    "        #print(\"char is {}\".format(char))\n",
    "        if char in opening:\n",
    "            stack.push(char)\n",
    "            #print(repr(stack))\n",
    "        elif char in closing:\n",
    "            if stack.peek() == pairs[char]:\n",
    "                stack.pop()\n",
    "                #print(repr(stack))\n",
    "            else:\n",
    "                return False\n",
    "        else:\n",
    "            continue\n",
    "    \n",
    "    #have gone through the string\n",
    "    return stack.isEmpty() #true if stack is empty, false if not (parenthesis unbalanced)\n"
   ]
  },
  {
   "cell_type": "code",
   "execution_count": 189,
   "id": "e06290a2",
   "metadata": {},
   "outputs": [],
   "source": [
    "test_cases = [\"\",\n",
    "             \"(\",\n",
    "             \"[\",\n",
    "             \"{\",\n",
    "             \"(]\",\n",
    "             \"[(])\",\n",
    "             \"{}\",\n",
    "             '([])']\n",
    "\n",
    "test_results = [True,False,False,False,False,False,True,True]"
   ]
  },
  {
   "cell_type": "code",
   "execution_count": 203,
   "id": "27aeb278",
   "metadata": {
    "scrolled": true
   },
   "outputs": [
    {
     "name": "stdout",
     "output_type": "stream",
     "text": [
      "[True]\n"
     ]
    }
   ],
   "source": [
    "for test in test_cases:\n",
    "        responses = []\n",
    "        responses.append(balanced(test))\n",
    "\n",
    "\n",
    "print(responses)\n",
    "\n",
    "\n"
   ]
  },
  {
   "cell_type": "code",
   "execution_count": 198,
   "id": "9c4f3eb3",
   "metadata": {},
   "outputs": [
    {
     "data": {
      "text/plain": [
       "True"
      ]
     },
     "execution_count": 198,
     "metadata": {},
     "output_type": "execute_result"
    }
   ],
   "source": [
    "balanced(test_cases[7])"
   ]
  },
  {
   "cell_type": "code",
   "execution_count": 69,
   "id": "2a41e6b8",
   "metadata": {},
   "outputs": [
    {
     "name": "stdout",
     "output_type": "stream",
     "text": [
      "[]\n"
     ]
    }
   ],
   "source": [
    "#Implementing a stack with an array\n",
    "\n",
    "my_array = []\n",
    "my_stack = my_array[0:top+1]\n",
    "top = -1\n",
    "\n",
    "def push(x):\n",
    "    global top, my_array\n",
    "    top += 1\n",
    "    my_array.insert(top+1,x)\n",
    "    \n",
    "push(7)\n",
    "print(my_stack)\n"
   ]
  },
  {
   "cell_type": "code",
   "execution_count": 67,
   "id": "ce3a526e",
   "metadata": {},
   "outputs": [
    {
     "name": "stdout",
     "output_type": "stream",
     "text": [
      "[7, 8, 3]<--TOP\n"
     ]
    }
   ],
   "source": [
    "my_stack = Stack()\n",
    "\n",
    "my_stack.push(7)\n",
    "my_stack.push(8)\n",
    "my_stack.push(3)\n",
    "my_stack.push(1)\n",
    "my_stack.pop()\n",
    "\n",
    "print(repr(my_stack))\n"
   ]
  },
  {
   "cell_type": "code",
   "execution_count": 62,
   "id": "907fbbfc",
   "metadata": {},
   "outputs": [
    {
     "ename": "IndexError",
     "evalue": "list index out of range",
     "output_type": "error",
     "traceback": [
      "\u001b[1;31m---------------------------------------------------------------------------\u001b[0m",
      "\u001b[1;31mIndexError\u001b[0m                                Traceback (most recent call last)",
      "\u001b[1;32m<ipython-input-62-2cbe629f37f5>\u001b[0m in \u001b[0;36m<module>\u001b[1;34m\u001b[0m\n\u001b[1;32m----> 1\u001b[1;33m \u001b[0mmy_stack\u001b[0m\u001b[1;33m.\u001b[0m\u001b[0mpeek\u001b[0m\u001b[1;33m(\u001b[0m\u001b[1;33m)\u001b[0m\u001b[1;33m\u001b[0m\u001b[1;33m\u001b[0m\u001b[0m\n\u001b[0m",
      "\u001b[1;32m<ipython-input-56-24909cec4ddb>\u001b[0m in \u001b[0;36mpeek\u001b[1;34m(self)\u001b[0m\n\u001b[0;32m     15\u001b[0m \u001b[1;33m\u001b[0m\u001b[0m\n\u001b[0;32m     16\u001b[0m     \u001b[1;32mdef\u001b[0m \u001b[0mpeek\u001b[0m\u001b[1;33m(\u001b[0m\u001b[0mself\u001b[0m\u001b[1;33m)\u001b[0m\u001b[1;33m:\u001b[0m\u001b[1;33m\u001b[0m\u001b[1;33m\u001b[0m\u001b[0m\n\u001b[1;32m---> 17\u001b[1;33m         \u001b[1;32mreturn\u001b[0m \u001b[0mstack\u001b[0m\u001b[1;33m[\u001b[0m\u001b[0mself\u001b[0m\u001b[1;33m.\u001b[0m\u001b[0mtop\u001b[0m\u001b[1;33m]\u001b[0m\u001b[1;33m\u001b[0m\u001b[1;33m\u001b[0m\u001b[0m\n\u001b[0m\u001b[0;32m     18\u001b[0m \u001b[1;33m\u001b[0m\u001b[0m\n\u001b[0;32m     19\u001b[0m     \u001b[1;32mdef\u001b[0m \u001b[0misEmpty\u001b[0m\u001b[1;33m(\u001b[0m\u001b[0mself\u001b[0m\u001b[1;33m)\u001b[0m\u001b[1;33m:\u001b[0m\u001b[1;33m\u001b[0m\u001b[1;33m\u001b[0m\u001b[0m\n",
      "\u001b[1;31mIndexError\u001b[0m: list index out of range"
     ]
    }
   ],
   "source": [
    "my_stack.peek()"
   ]
  },
  {
   "cell_type": "code",
   "execution_count": 31,
   "id": "fd48fde9",
   "metadata": {},
   "outputs": [
    {
     "name": "stdout",
     "output_type": "stream",
     "text": [
      "[3, 8, 9]\n"
     ]
    }
   ],
   "source": [
    "print(my_list)"
   ]
  },
  {
   "cell_type": "code",
   "execution_count": null,
   "id": "b4fd13eb",
   "metadata": {},
   "outputs": [],
   "source": []
  }
 ],
 "metadata": {
  "kernelspec": {
   "display_name": "Python 3 (ipykernel)",
   "language": "python",
   "name": "python3"
  },
  "language_info": {
   "codemirror_mode": {
    "name": "ipython",
    "version": 3
   },
   "file_extension": ".py",
   "mimetype": "text/x-python",
   "name": "python",
   "nbconvert_exporter": "python",
   "pygments_lexer": "ipython3",
   "version": "3.11.1"
  }
 },
 "nbformat": 4,
 "nbformat_minor": 5
}
