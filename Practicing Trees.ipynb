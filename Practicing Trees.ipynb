{
 "cells": [
  {
   "cell_type": "code",
   "execution_count": 38,
   "id": "0c5c7050-ee8a-478e-b2de-47856992ddc7",
   "metadata": {
    "tags": []
   },
   "outputs": [],
   "source": [
    "class TreeNode:\n",
    "    \n",
    "    def __init__(self,data,left=None,right=None):\n",
    "        self.data = data\n",
    "        self.left = left\n",
    "        self.right = right\n",
    "        \n",
    "    def setValue(self,data):\n",
    "        self.data = data\n",
    "    \n",
    "    def setLeft(self,left):\n",
    "        self.left = left\n",
    "        \n",
    "    def setRight(self,right):\n",
    "        self.right = right\n",
    "        \n",
    "    def getValue(self):\n",
    "        return self.data\n",
    "    \n",
    "    def getLeft(self):\n",
    "        return self.left\n",
    "    \n",
    "    def getRight(self):\n",
    "        return self.right\n",
    "    "
   ]
  },
  {
   "cell_type": "code",
   "execution_count": 42,
   "id": "f6500c18-321a-4a11-9b2a-bfb7e0d78cd1",
   "metadata": {
    "tags": []
   },
   "outputs": [],
   "source": [
    "my_tree = TreeNode(5)\n",
    "my_tree.setLeft(3)\n",
    "my_tree.setRight(7)\n",
    "\n",
    "\n",
    "\n"
   ]
  },
  {
   "cell_type": "code",
   "execution_count": 39,
   "id": "7fa8b001-ae7f-450f-94bc-b07f914fd02a",
   "metadata": {
    "tags": []
   },
   "outputs": [],
   "source": [
    "#creating a binay search tree\n",
    "\n",
    "class LinkedBst:\n",
    "    \n",
    "    def __init__(self):\n",
    "        self.root = None\n",
    "    \n",
    "    #recursive function\n",
    "    def insert_aux(self,node,data):\n",
    "        if node is None:\n",
    "            node = TreeNode(data)\n",
    "        elif data < node.getValue():\n",
    "            node.setLeft(self.insert_aux(node.getLeft(),data))\n",
    "        elif data > node.getValue():\n",
    "            node.setRight(self.insert_aux(node.getRight(),data))\n",
    "        return node\n",
    "    \n",
    "    def insert(self,data):\n",
    "        self.root = self.insert_aux(self.root,data)\n",
    "    \n",
    "    #recursive function\n",
    "    def inorder_aux(self,node):\n",
    "        if node is not None:\n",
    "            self.inorder_aux(node.getLeft())\n",
    "            #once left of node is none...\n",
    "            print(node.getValue())\n",
    "            self.inorder_aux(node.getRight())\n",
    "            \n",
    "        \n",
    "    def inorder(self):\n",
    "        self.inorder_aux(self.root)\n",
    "        \n",
    "    \n",
    "    "
   ]
  },
  {
   "cell_type": "code",
   "execution_count": 40,
   "id": "996ce339-ff34-4f8a-b62e-0b21765fcd51",
   "metadata": {
    "tags": []
   },
   "outputs": [
    {
     "name": "stdout",
     "output_type": "stream",
     "text": [
      "4\n",
      "5\n",
      "7\n",
      "10\n",
      "13\n",
      "15\n",
      "20\n"
     ]
    }
   ],
   "source": [
    "myBST = LinkedBst()\n",
    "\n",
    "myBST.insert(10)\n",
    "myBST.insert(5)\n",
    "myBST.insert(15)\n",
    "myBST.insert(7)\n",
    "myBST.insert(4)\n",
    "myBST.insert(20)\n",
    "myBST.insert(13)\n",
    "\n",
    "# print(myBST.root)\n",
    "# print(myBST.root.left.data)\n",
    "# print(myBST.left)\n",
    "\n",
    "myBST.inorder()"
   ]
  },
  {
   "cell_type": "markdown",
   "id": "1ff28021-1c69-415c-9094-89a27d36f0cf",
   "metadata": {},
   "source": [
    "Another Implementation of a Binary Search Tree"
   ]
  },
  {
   "cell_type": "code",
   "execution_count": 322,
   "id": "64a29aa8-e7ef-4ff4-a816-e4aee9171138",
   "metadata": {
    "tags": []
   },
   "outputs": [],
   "source": [
    "class BST:\n",
    "    \n",
    "    def __init__(self,root=None):\n",
    "        self.root = root\n",
    "        self.left = self.right = None\n",
    "    \n",
    "    def insert(self,data):\n",
    "        #base case\n",
    "        if self.root is None:\n",
    "            self.root = data\n",
    "            return\n",
    "        \n",
    "        #recursive case\n",
    "        elif data < self.root:\n",
    "            if self.left is not None:\n",
    "                self.left.insert(data)\n",
    "            else:\n",
    "                self.left = BST(data)\n",
    "        #ignore duplicates\n",
    "        elif data == self.root:\n",
    "            return\n",
    "        else:\n",
    "            if self.right is not None:\n",
    "                self.right.insert(data)\n",
    "            else:\n",
    "                self.right = BST(data)\n",
    "                \n",
    "    def search(self,data):\n",
    "        #base case\n",
    "        if data == self.root:\n",
    "            print(\"Yes, {} is found in tree\".format(data))\n",
    "            # return self\n",
    "        else:\n",
    "            if data < self.root:\n",
    "                if self.left:\n",
    "                    self.left.search(data)\n",
    "                else:\n",
    "                    print(\"No, {} is not in tree\".format(data))\n",
    "                    # return False\n",
    "            else:\n",
    "                if self.right:\n",
    "                    self.right.search(data)\n",
    "                else:\n",
    "                    print(\"No, {} is not in tree\".format(data))\n",
    "                    # return False\n",
    "    \n",
    "    #preorder traversal: root -> left -> right\n",
    "    def preorder(self):\n",
    "        print(self.root)\n",
    "        if self.left:\n",
    "            self.left.preorder()\n",
    "        if self.right:\n",
    "            self.right.preorder()\n",
    "    \n",
    "    #inorder traversal: left -> root -> right\n",
    "    def inorder(self):\n",
    "        if self.left:\n",
    "            self.left.inorder()\n",
    "        print(self.root)\n",
    "        if self.right:\n",
    "            self.right.inorder()\n",
    "    \n",
    "    #postorder traversal: left -> right -> root\n",
    "    def postorder(self):\n",
    "        if self.left:\n",
    "            self.left.postorder()\n",
    "        if self.right:\n",
    "            self.right.postorder()\n",
    "        print(self.root)\n",
    "        \n",
    "    #delete node\n",
    "    def delete(self,data):\n",
    "        #check if tree is empty\n",
    "        if self.root is None:\n",
    "            print(\"The tree is empty, cannot delete\")\n",
    "            return\n",
    "        \n",
    "        #if not empty, search for the node\n",
    "        if data < self.root:\n",
    "            if self.left:\n",
    "                self.left = self.left.delete(data) #update link\n",
    "            else:\n",
    "                print(\"Given node is not present in the tree\")\n",
    "        elif data > self.root:\n",
    "            if self.right:\n",
    "                self.right = self.right.delete(data) #update link\n",
    "            else:\n",
    "                print(\"Given node is not present in the tree\")\n",
    "        else:\n",
    "            #0 child (we delete, severe the link) & 1 child (the child replaces the parent)\n",
    "            if self.left is None:\n",
    "                temp = self.right\n",
    "                self = None #delete node\n",
    "                return temp\n",
    "            if self.right is None:\n",
    "                temp = self.left\n",
    "                self = None #delete node\n",
    "                return temp\n",
    "            #2 child: replace the parent with the greatest value in the left subtree(most right of left tree)\n",
    "            #Aleternatively, we can take smallest value in right subtree(most left of the right tree)\n",
    "            node = self.left\n",
    "            while node.right:\n",
    "                node = node.right\n",
    "            self.root = node.root\n",
    "            self.left = self.left.delete(node.root) #update link\n",
    "        return self #if this is omitted, then all nodes beneath deleted are deleted as well, we need this to properly update the links\n",
    "    \n",
    "\n",
    "#calculate sum of tree\n",
    "def get_sum(BST):\n",
    "    #ensure tree is not empty\n",
    "    if BST is None:\n",
    "        return 0\n",
    "    elif BST.root is None:\n",
    "        return \"Tree is empty, cannot get sum\"\n",
    "    else:\n",
    "        return BST.root + get_sum(BST.left) + get_sum(BST.right) \n",
    "\n",
    "#Function to count the number of nodes in a binary search tree\n",
    "def count(bst):\n",
    "    if bst is None:\n",
    "        return 0\n",
    "    elif bst.root is None:\n",
    "        return 0\n",
    "    else:\n",
    "        return 1+count(bst.left)+count(bst.right)\n",
    "    \n",
    "#Function to find minimum of BST\n",
    "def minimum(bst):\n",
    "    #base case, we are at the farthest left node, no more left nodes\n",
    "    if bst.left is None:\n",
    "        return bst.root\n",
    "    else:\n",
    "        #recursive case\n",
    "        return minimum(bst.left)\n",
    "    \n",
    "#Function to find maximum of BST\n",
    "def maximum(bst):\n",
    "    #base case, we are at the farthest right node, no more right nodes\n",
    "    if bst.right is None:\n",
    "        return bst.root\n",
    "    else:\n",
    "        #recursive case\n",
    "        return maximum(bst.right)\n",
    "\n",
    "#Function to find height (max depth), of a binary tree\n",
    "def findHeight(bst):\n",
    "    #base case: no children (height is 0)\n",
    "    if bst is None:\n",
    "        return -1 #need this so that we dont count the left/right links to NUll for our leaf nodes\n",
    "    else:\n",
    "        return 1+max(findHeight(bst.left),findHeight(bst.right))"
   ]
  },
  {
   "cell_type": "code",
   "execution_count": 324,
   "id": "418c77a1-dd6c-4869-b282-b8828e4e8795",
   "metadata": {
    "tags": []
   },
   "outputs": [
    {
     "data": {
      "text/plain": [
       "3"
      ]
     },
     "execution_count": 324,
     "metadata": {},
     "output_type": "execute_result"
    }
   ],
   "source": [
    "my_BST = BST()\n",
    "\n",
    "\n",
    "my_BST.insert(10)\n",
    "my_BST.insert(5)\n",
    "my_BST.insert(3)\n",
    "my_BST.insert(16)\n",
    "my_BST.insert(7)\n",
    "my_BST.insert(13)\n",
    "my_BST.insert(20)\n",
    "my_BST.insert(1)\n",
    "# print(my_BST.root)\n",
    "# print(my_BST.left.root)\n",
    "# print(my_BST.left.left.root)\n",
    "# print(my_BST.right.root)\n",
    "\n",
    "\n",
    "# my_BST.inorder()\n",
    "# my_BST.delete(16)\n",
    "# my_BST.delete(20)\n",
    "# my_BST.delete(10)\n",
    "# print(\"After the delete: \")\n",
    "# my_BST.inorder()\n",
    "\n",
    "# print(\"Number of nodes in the tree: {}\".format(count(my_BST)))\n",
    "\n",
    "# get_sum(my_BST)\n",
    "# count(my_BST)\n",
    "# minimum(my_BST)\n",
    "# maximum(my_BST)\n",
    "findHeight(my_BST)"
   ]
  },
  {
   "cell_type": "code",
   "execution_count": 114,
   "id": "8a72cfcb-f77d-43dd-aa4f-5eb452d900db",
   "metadata": {
    "tags": []
   },
   "outputs": [],
   "source": [
    "# my_BST.search(3)\n",
    "# my_BST.preorder()\n",
    "# print()\n",
    "# my_BST.inorder()\n",
    "# print()\n",
    "# my_BST.postorder()"
   ]
  },
  {
   "cell_type": "markdown",
   "id": "5a7864d7-01c2-4cdf-a6a2-60159b303ab8",
   "metadata": {},
   "source": [
    "# Height and Depth of trees\n",
    "\n",
    "**Height of a node:** the number of edges in the longest path from the node to a leaf node (therefore, height of a leaf node is 0)\n",
    "\n",
    "**Height of a tree:** the height of the root node (Height of a tree is also known as 'max depth' of a tree)\n",
    "\n",
    "**Depth of a node:** the number of edges in the path from the root node, to that paticular node\n"
   ]
  },
  {
   "cell_type": "markdown",
   "id": "2406cac8-1d65-4dc9-9c69-18675532fb79",
   "metadata": {},
   "source": [
    "# Practicing Recursion Problems"
   ]
  },
  {
   "cell_type": "code",
   "execution_count": 210,
   "id": "d3344156-5773-45d6-b871-93f238a486d9",
   "metadata": {
    "tags": []
   },
   "outputs": [],
   "source": [
    "#Create a function to calculate the factorial of a given number\n",
    "\n",
    "def factorial(n):\n",
    "    #recursive case\n",
    "    if n >= 1:\n",
    "        return n*factorial(n-1)\n",
    "    #base case\n",
    "    else:\n",
    "        return 1"
   ]
  },
  {
   "cell_type": "code",
   "execution_count": 211,
   "id": "41806493-e709-4441-8f09-c2dd99c29482",
   "metadata": {
    "tags": []
   },
   "outputs": [
    {
     "data": {
      "text/plain": [
       "120"
      ]
     },
     "execution_count": 211,
     "metadata": {},
     "output_type": "execute_result"
    }
   ],
   "source": [
    "factorial(5)"
   ]
  },
  {
   "cell_type": "code",
   "execution_count": 219,
   "id": "02de7488-2545-4f93-b702-b2998b9d7652",
   "metadata": {
    "tags": []
   },
   "outputs": [],
   "source": [
    "#Create a function to return a given number(by ordinal posiiton) in the fibonaci sequence:\n",
    "# 0, 1, 1, 2, 3, 5, 8, 13, 21, 34, 55, 89, 144\n",
    "\n",
    "\n",
    "def fib(n):\n",
    "    #basecase\n",
    "    if n <= 1:\n",
    "        return 0\n",
    "    elif n == 2:\n",
    "        return 1\n",
    "    #recursive case\n",
    "    else:\n",
    "        return fib(n-1)+fib(n-2)\n",
    "\n",
    "    "
   ]
  },
  {
   "cell_type": "code",
   "execution_count": 229,
   "id": "e86a237e-0fed-4873-ba4c-47a84e0c6ea9",
   "metadata": {
    "tags": []
   },
   "outputs": [
    {
     "data": {
      "text/plain": [
       "144"
      ]
     },
     "execution_count": 229,
     "metadata": {},
     "output_type": "execute_result"
    }
   ],
   "source": [
    "fib(1)\n",
    "fib(2)\n",
    "fib(3)\n",
    "fib(4)\n",
    "fib(5)\n",
    "fib(13)"
   ]
  },
  {
   "cell_type": "markdown",
   "id": "28a866d4-abf8-4e35-baa8-6d2a7a0e35a8",
   "metadata": {},
   "source": [
    "# Another BST Implementation"
   ]
  },
  {
   "cell_type": "code",
   "execution_count": 104,
   "id": "e27e831f-c830-4347-8794-638d3fea5c44",
   "metadata": {
    "tags": []
   },
   "outputs": [],
   "source": [
    "class Node:\n",
    "    \n",
    "    def __init__(self,data):\n",
    "        self.data = data\n",
    "        self.left = self.right = None\n",
    "\n",
    "#function to insert a node into a tree\n",
    "def insert(root,data):\n",
    "    #base case, root is null\n",
    "    if root is None:\n",
    "        root = Node(data)\n",
    "    #recursive case\n",
    "    elif data < root.data:\n",
    "        if root.left:\n",
    "            insert(root.left,data)\n",
    "        else:\n",
    "            root.left = Node(data)\n",
    "    elif data == root.data:        #no duplicates\n",
    "        return\n",
    "    else:\n",
    "        if root.right:\n",
    "            insert(root.right,data)\n",
    "        else:\n",
    "            root.right = Node(data)\n",
    "    \n",
    " \n",
    " #function to visit, (and print), each node inorder (left,parent,right)   \n",
    "def inorder_print(root):\n",
    "    if root:\n",
    "        inorder_print(root.left)\n",
    "        print(root.data)\n",
    "        inorder_print(root.right)\n",
    "\n",
    " #function find (and print) max in the tree (aka, return right most value of the tree)\n",
    "def find_max(root):\n",
    "    #base case, no right children\n",
    "    if root.right is None:\n",
    "        return root\n",
    "    #recursive case\n",
    "    else:\n",
    "        return find_max(root.right)\n",
    "\n",
    "def find_min(root):\n",
    "    #base case, no left children\n",
    "    if root.left is None:\n",
    "        return root\n",
    "    #recursive case\n",
    "    else:\n",
    "        return find_min(root.left)\n",
    "    \n",
    "        \n",
    "#create function to delete a given node\n",
    "def delete(root,data):\n",
    "    # see if the node exists in tree\n",
    "    if root is None:\n",
    "        return root\n",
    "    elif data < root.data:\n",
    "        if root.left:\n",
    "            root.left = delete(root.left,data)\n",
    "        else:\n",
    "            print(\"Given node is not present in the tree\")\n",
    "    elif data > root.data:\n",
    "        if root.right:\n",
    "            root.right = delete(root.right,data)\n",
    "        else:\n",
    "            print(\"Given node is not present in the tree\")\n",
    "    else:\n",
    "        #no child\n",
    "        if (root.left is None) and (root.right is None):\n",
    "            del root\n",
    "            root = None\n",
    "        \n",
    "        #one child\n",
    "        elif root.left is None:\n",
    "            temp = root\n",
    "            root = root.right\n",
    "            del temp\n",
    "        elif root.right is None:\n",
    "            temp = root\n",
    "            root = root.left\n",
    "            del temp\n",
    "            \n",
    "        #two child\n",
    "        else:\n",
    "            temp = find_max(root.left)\n",
    "            root.data = temp.data\n",
    "            root.left = delete(root.left,temp.data)\n",
    "\n",
    "    return root\n",
    "\n",
    "\n",
    "#Function to find height (max depth), of a binary tree\n",
    "def findHeight(root):\n",
    "    #base case: no children (height is 0)\n",
    "    if root is None:\n",
    "        return -1 #need this so that we dont count the left/right links to NUll for our leaf nodes\n",
    "    else:\n",
    "        return 1+max(findHeight(root.left),findHeight(root.right))\n",
    "\n",
    "#Function to calculate height of a node, given its data\n",
    "#Height of a node: the number of edges in the longest path from the node to a leaf node (therefore, height of a leaf node is 0):\n",
    "def heightNode(root,data):\n",
    "    #see if node exists (search for it)\n",
    "    if root is None:\n",
    "        return root\n",
    "    elif data < root.data:\n",
    "        if root.left:\n",
    "            return heightNode(root.left,data)\n",
    "        else:\n",
    "            return 'Node is not found in the tree'\n",
    "    elif data > root.data:\n",
    "        if root.right:\n",
    "            return heightNode(root.right,data)\n",
    "        else:\n",
    "            return 'Node is not found in the tree'\n",
    "    else:          \n",
    "        return findHeight(root)\n",
    "    \n",
    "    return root\n",
    "        \n",
    "    \n",
    "    \n",
    "   \n",
    "        \n",
    "        \n",
    "       \n",
    "\n",
    "        \n",
    "    "
   ]
  },
  {
   "cell_type": "code",
   "execution_count": 107,
   "id": "4bec9d2c-fac1-4df4-b0ca-ce122f68208c",
   "metadata": {
    "tags": []
   },
   "outputs": [
    {
     "name": "stdout",
     "output_type": "stream",
     "text": [
      "1\n",
      "3\n",
      "7\n",
      "8\n",
      "10\n",
      "15\n",
      "17\n",
      "18\n",
      "20\n",
      "35\n",
      "42\n"
     ]
    },
    {
     "data": {
      "text/plain": [
       "0"
      ]
     },
     "execution_count": 107,
     "metadata": {},
     "output_type": "execute_result"
    }
   ],
   "source": [
    "#creating tree\n",
    "root = Node(15)\n",
    "\n",
    "#nodes to insert\n",
    "nodes = [7,20,3,8,18,35,1,10,17,42]\n",
    "\n",
    "for node in nodes:\n",
    "    insert(root,node)\n",
    "\n",
    "\n",
    "inorder_print(root)\n",
    "# find_max(root)\n",
    "# find_min(root)\n",
    "# delete(root,7)\n",
    "\n",
    "# print(\"after delete: \")\n",
    "# inorder_print(root)\n",
    "# findHeight(root)\n",
    "heightNode(root,1)\n",
    "# findHeight(root)"
   ]
  },
  {
   "cell_type": "code",
   "execution_count": null,
   "id": "e4f6d0d1-e046-481b-abd0-284ddc1029c2",
   "metadata": {},
   "outputs": [],
   "source": []
  }
 ],
 "metadata": {
  "kernelspec": {
   "display_name": "Python 3 (ipykernel)",
   "language": "python",
   "name": "python3"
  },
  "language_info": {
   "codemirror_mode": {
    "name": "ipython",
    "version": 3
   },
   "file_extension": ".py",
   "mimetype": "text/x-python",
   "name": "python",
   "nbconvert_exporter": "python",
   "pygments_lexer": "ipython3",
   "version": "3.11.1"
  }
 },
 "nbformat": 4,
 "nbformat_minor": 5
}
