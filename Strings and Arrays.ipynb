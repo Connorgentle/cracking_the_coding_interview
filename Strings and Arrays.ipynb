{
 "cells": [
  {
   "cell_type": "code",
   "execution_count": 7,
   "id": "d472240d",
   "metadata": {},
   "outputs": [
    {
     "data": {
      "text/plain": [
       "'C:\\\\Users\\\\gentl'"
      ]
     },
     "execution_count": 7,
     "metadata": {},
     "output_type": "execute_result"
    }
   ],
   "source": [
    "os.getcwd()"
   ]
  },
  {
   "cell_type": "code",
   "execution_count": 8,
   "id": "b7dcbbf8",
   "metadata": {},
   "outputs": [
    {
     "name": "stdout",
     "output_type": "stream",
     "text": [
      "C:\\Users\\gentl\\Desktop\\CTCI\\Ch1_arrays_and_strings\n"
     ]
    }
   ],
   "source": [
    "%cd \"C:\\\\Users\\\\gentl\\\\Desktop\\\\CTCI\\\\Ch1_arrays_and_strings\""
   ]
  },
  {
   "cell_type": "markdown",
   "id": "bbe36e6e",
   "metadata": {},
   "source": [
    "<H1>Chapter 1: Arrays and Strings</H1>"
   ]
  },
  {
   "cell_type": "markdown",
   "id": "82fdc70e",
   "metadata": {},
   "source": [
    "1.1 Is Unique: Implement an algorithm to determine is a string has all unique characters. What if you cannot use additional data structures?"
   ]
  },
  {
   "cell_type": "code",
   "execution_count": 9,
   "id": "c2c97304",
   "metadata": {},
   "outputs": [],
   "source": [
    "#first thought, for each character in string, check if it is the only instance\n",
    "#Faster way in Python would be to convert the string into a set, then compare the length\n",
    "\n",
    "myString = \"Hello World\" #should fail\n",
    "myString2 = \"Then\" #should pass\n"
   ]
  },
  {
   "cell_type": "code",
   "execution_count": 18,
   "id": "9e021834",
   "metadata": {},
   "outputs": [],
   "source": [
    "# myString[3]\n",
    "\n",
    "def unique_characters(s):\n",
    "    for char in s:\n",
    "        counter=0\n",
    "        for i in range (0,len(s)-1):\n",
    "            if s[i] == char:\n",
    "                counter += 1\n",
    "            if counter > 1:\n",
    "                return False\n",
    "    return True\n",
    "        \n",
    "        \n",
    "    "
   ]
  },
  {
   "cell_type": "code",
   "execution_count": 19,
   "id": "fbb87644",
   "metadata": {},
   "outputs": [
    {
     "data": {
      "text/plain": [
       "False"
      ]
     },
     "execution_count": 19,
     "metadata": {},
     "output_type": "execute_result"
    }
   ],
   "source": [
    "unique_characters('Hello')"
   ]
  },
  {
   "cell_type": "code",
   "execution_count": 20,
   "id": "919d129d",
   "metadata": {},
   "outputs": [
    {
     "data": {
      "text/plain": [
       "True"
      ]
     },
     "execution_count": 20,
     "metadata": {},
     "output_type": "execute_result"
    }
   ],
   "source": [
    "unique_characters('Then')"
   ]
  },
  {
   "cell_type": "markdown",
   "id": "c3464e24",
   "metadata": {},
   "source": [
    "Notes:\n",
    "\n",
    "Should first clarify whether the string is ASCII or Unicode string.\n",
    "\n",
    "ASCII Alphabet can represent 26 upper case letters (A to Z) , 26 lower case letters , 10 numerals (0 to 9) and 33 special characters including mathematical symbols, punctuation marks and space character.  A total of 128 unique characters.\n",
    "\n",
    "Could use this information to immediately rule out strings with a length greater than 128.\n",
    "\n",
    "\n",
    "Hints:\n",
    "- try a hash table (a dictionary in Python)\n",
    "- could a bit vector be useful?\n",
    "- an you solve it in O(N log N) Time? What might a solution look like?\n",
    "    - A structure consisting of multiple bits is called a bit vector or bit array"
   ]
  },
  {
   "cell_type": "code",
   "execution_count": 23,
   "id": "4e75488f",
   "metadata": {},
   "outputs": [],
   "source": [
    "#Trying again without restriction of no other data structures, tuple\n",
    "def unique_characters2(s):\n",
    "    \n",
    "    #eliminate cases where length is greater than number of unique ASCII characters\n",
    "    if len(s) > 128:\n",
    "        return False\n",
    "    \n",
    "    my_tuple = set(s)\n",
    "    if len(s) > len(my_tuple):\n",
    "        return False\n",
    "    else:\n",
    "        return True\n",
    "    \n",
    "    \n",
    " "
   ]
  },
  {
   "cell_type": "code",
   "execution_count": 24,
   "id": "e1f90fb9",
   "metadata": {},
   "outputs": [
    {
     "data": {
      "text/plain": [
       "False"
      ]
     },
     "execution_count": 24,
     "metadata": {},
     "output_type": "execute_result"
    }
   ],
   "source": [
    "unique_characters2('Hello')"
   ]
  },
  {
   "cell_type": "code",
   "execution_count": 27,
   "id": "e641a95b",
   "metadata": {},
   "outputs": [
    {
     "data": {
      "text/plain": [
       "True"
      ]
     },
     "execution_count": 27,
     "metadata": {},
     "output_type": "execute_result"
    }
   ],
   "source": [
    "unique_characters2('Spider hog')"
   ]
  },
  {
   "cell_type": "code",
   "execution_count": 31,
   "id": "b2ba80fd",
   "metadata": {},
   "outputs": [],
   "source": [
    "#Try again without restriction of no other data structures, hash_map (dictionary)"
   ]
  },
  {
   "cell_type": "markdown",
   "id": "4f3a0766",
   "metadata": {},
   "source": [
    "1.2 Check Permutation: Given two strings, write a method to decide if one is a permutation of the other\n",
    "\n",
    "(note: String permutation, is the same chracters just rearranged in some way. i.e abc -> bac)"
   ]
  },
  {
   "cell_type": "code",
   "execution_count": 32,
   "id": "fc36b6a3",
   "metadata": {},
   "outputs": [],
   "source": [
    "#first thought would be to sort the two strings and then compare them\n",
    "\n",
    "#permutation\n",
    "ex1a = 'abc'\n",
    "ex1b = 'cba'\n",
    "\n",
    "#not a permutation\n",
    "ex2a = 'dog'\n",
    "ex2b = 'doc'\n",
    "\n",
    "#would be good to verify they are the same length first"
   ]
  },
  {
   "cell_type": "code",
   "execution_count": 105,
   "id": "7031a2c1",
   "metadata": {},
   "outputs": [],
   "source": [
    "def permutation(string1,string2):\n",
    "    \n",
    "    if len(string1) != len(string2):\n",
    "        return False\n",
    "    \n",
    "    s1 = []\n",
    "    s2 = []\n",
    "    \n",
    "    for char in string1:\n",
    "        s1.append(char)\n",
    "    \n",
    "    for char in string2:\n",
    "        s2.append(char)\n",
    "    \n",
    "    s1.sort()\n",
    "    s2.sort()\n",
    "    \n",
    "    print(s1)\n",
    "    print(s2)\n",
    "    \n",
    "    return s1 == s2\n",
    "            "
   ]
  },
  {
   "cell_type": "code",
   "execution_count": 106,
   "id": "a309ddb0",
   "metadata": {},
   "outputs": [
    {
     "name": "stdout",
     "output_type": "stream",
     "text": [
      "['a', 'b', 'c']\n",
      "['a', 'b', 'c']\n"
     ]
    },
    {
     "data": {
      "text/plain": [
       "True"
      ]
     },
     "execution_count": 106,
     "metadata": {},
     "output_type": "execute_result"
    }
   ],
   "source": [
    "permutation('abc','cab')"
   ]
  },
  {
   "cell_type": "code",
   "execution_count": 107,
   "id": "a6f4e676",
   "metadata": {},
   "outputs": [
    {
     "name": "stdout",
     "output_type": "stream",
     "text": [
      "['d', 'g', 'o']\n",
      "['c', 'd', 'o']\n"
     ]
    },
    {
     "data": {
      "text/plain": [
       "False"
      ]
     },
     "execution_count": 107,
     "metadata": {},
     "output_type": "execute_result"
    }
   ],
   "source": [
    "permutation('dog','doc')"
   ]
  },
  {
   "cell_type": "markdown",
   "id": "94579403",
   "metadata": {},
   "source": [
    "1.3 URLify: Write a method to replace all spaces in a string with '%20'. You may assume that the string has susfficient space at the end to hold the additional characters, and that you are given the \"true\" length of the string.\n",
    "\n",
    "example input: \"Mr John Smith\"\n",
    "example output: \"Mr%20John%20Smith\""
   ]
  },
  {
   "cell_type": "code",
   "execution_count": 109,
   "id": "d86f5a1e",
   "metadata": {},
   "outputs": [],
   "source": [
    "#first thought is to search each character, and if it is a space, raplace with '%20'\n",
    "#since strings are immutable, put the string into a list first\n",
    "#then replace the spaces\n",
    "#then return a string of of all list items joined\n",
    "\n",
    "#python alternative would be to place all items seperated by a space into a list (using split() method)\n",
    "#then join them all together into a string, where each item is seperated by a '%20'\n",
    "#Could also use python .replace() string method"
   ]
  },
  {
   "cell_type": "code",
   "execution_count": 110,
   "id": "29a43f9d",
   "metadata": {},
   "outputs": [],
   "source": [
    "def urlify(s):\n",
    "    \n",
    "    content = s.split(' ')\n",
    "    urlified = '%20'.join(content)\n",
    "    \n",
    "    return urlified\n",
    "    \n",
    "    "
   ]
  },
  {
   "cell_type": "code",
   "execution_count": 111,
   "id": "ba74c06d",
   "metadata": {},
   "outputs": [
    {
     "data": {
      "text/plain": [
       "'Mr%20John%20Smith'"
      ]
     },
     "execution_count": 111,
     "metadata": {},
     "output_type": "execute_result"
    }
   ],
   "source": [
    "urlify('Mr John Smith')"
   ]
  },
  {
   "cell_type": "code",
   "execution_count": 116,
   "id": "56df077d",
   "metadata": {},
   "outputs": [
    {
     "name": "stdout",
     "output_type": "stream",
     "text": [
      "['M', 'r', ' ', 'J', 'o', 'h', 'n', ' ', 'S', 'm', 'i', 't', 'h']\n"
     ]
    }
   ],
   "source": [
    "# the hints recommend starting at the end of the string, and counting the number of spaces\n",
    "# what happens if I put the string into a list and sort alphabetically?\n",
    "\n",
    "my_string = 'Mr John Smith'\n",
    "\n",
    "my_list = []\n",
    "\n",
    "for char in my_string:\n",
    "    my_list.append(char)\n",
    "    \n",
    "# my_list.sort()\n",
    "\n",
    "print(my_list)\n",
    "\n",
    "#the spaces appear at the front \n",
    "# count count the number of spaces with .count() list method\n"
   ]
  },
  {
   "cell_type": "markdown",
   "id": "d6cd65d7",
   "metadata": {},
   "source": [
    "1.4 Palindrome Permutation: Given a string, write a function to check if it is a permutation of a palindrome. A palindrome is a word or phrase that is the same forwards and backwards. A permutation is a rearrangement of letters. The palindrome does not need to be limited to just dictionary words. You can ignore casing and non-letter characters.\n",
    "\n",
    "Example:\n",
    "\n",
    "Input: 'Tact Coa'\n",
    "Output: True (permutations: 'taco cat', 'atco cta', etc.)\n"
   ]
  },
  {
   "cell_type": "code",
   "execution_count": 132,
   "id": "40b3b725",
   "metadata": {},
   "outputs": [],
   "source": [
    "#first thought is to rephrase the question\n",
    "\n",
    "#can it make a palindrome?\n",
    "    # does the text contain one letter with an odd number of occurences (1,3,5, etc.) and the rest even (2,4,6, etc.)?\n",
    "    \n",
    "# for each letter, count the number of occurences\n",
    "# verify above conditions (use mod 2 to see if there are an even number of occurences or not)\n",
    "\n",
    "def palindrome_permutation(s):\n",
    "    \n",
    "    characters = {}\n",
    "    \n",
    "    #create a dictionary of each letter, and its occurences. Duplicates will be overwritten\n",
    "    \n",
    "    count = 0 # to verify numbe of odd-numbered occurences\n",
    "    for char in s:\n",
    "\n",
    "        characters[char] = s.count(char)\n",
    "            \n",
    "    #verify that only one character can have an odd number of occurences\n",
    "        if s.count(char) %2 != 0:\n",
    "            count += 1\n",
    "    \n",
    "    if count > 1:\n",
    "        return False\n",
    "    \n",
    "    else:\n",
    "        return True\n",
    "    \n",
    "\n",
    "    "
   ]
  },
  {
   "cell_type": "code",
   "execution_count": 144,
   "id": "84f374a1",
   "metadata": {},
   "outputs": [
    {
     "data": {
      "text/plain": [
       "False"
      ]
     },
     "execution_count": 144,
     "metadata": {},
     "output_type": "execute_result"
    }
   ],
   "source": [
    "palindrome_permutation('doeodoossttttxxx')"
   ]
  },
  {
   "cell_type": "markdown",
   "id": "8ee21940",
   "metadata": {},
   "source": [
    "1.5 One Away: There are three types of edits that can be performed on strings: insert a character, remove a character, or replace a character. Given two strings, write a function to check if they are one edit (or zero edits) away.\n",
    "\n",
    "EXAMPLE\n",
    "\n",
    "pale, ple -> true\n",
    "\n",
    "pales, pale -> true\n",
    "\n",
    "pale, bale -> true\n",
    "\n",
    "pale, bake -> false\n",
    "\n",
    "pale, bales -> false"
   ]
  },
  {
   "cell_type": "code",
   "execution_count": 145,
   "id": "ce40c7c6",
   "metadata": {},
   "outputs": [],
   "source": [
    "#first thought, need to write a function that \n",
    "#compare the length of the strings\n",
    "    #if the same length\n",
    "        #go through each character of both strings and see if they are the same, count the differences \n",
    "            #(if >1 return false), if <=1 return true\n",
    "    #else if second word has length or first word minus 1\n",
    "        #perform same test as above\n",
    "    #else if second word has length of first word plus 1\n",
    "        #perform same test as above\n",
    "        \n",
    "        \n",
    "#Reflecting... since they all use the same test, maybe I can simplify my algorithm:\n",
    "\n",
    "#compare length of two strings:\n",
    "#if length of string_2 = length of string_1 or +1 or -1:\n",
    "    #go through each character in the two strings and count the number of differences (gets thrown off by inserts and removes)\n",
    "        #if number of differences exceeds 1 then return false, otherwise, return true\n",
    "\n",
    "#a while loop might be good to terminate the loop early (no need to keep comparing letters if first two are different)"
   ]
  },
  {
   "cell_type": "code",
   "execution_count": 48,
   "id": "878e8352",
   "metadata": {},
   "outputs": [],
   "source": [
    "#START WITH BREAKING IT INTO THREE STEPS, INSERT, REMOVE, REPLACE\n",
    "\n",
    "def one_away(string1,string2):\n",
    "    \n",
    "    #rule out examples that are definitely more than one away\n",
    "    if (len(string2) > len(string1)+1) or (len(string2) < len(string1)-1):\n",
    "        return False\n",
    "    \n",
    "    #exact same string (0 edits)\n",
    "    if string2 == string1:\n",
    "        return True\n",
    "    \n",
    "    #check for one away edits\n",
    "    elif string2 != string1:\n",
    "\n",
    "        #check for size difference\n",
    "        smaller = min(string1,string2)\n",
    "        larger = max(string1,string2)\n",
    "\n",
    "        differences = 0 #count of edits\n",
    "        i = 0 #index for smaller string\n",
    "        j = 0 #index for larger string\n",
    "\n",
    "        #iterate through the smaller string, and see how much matches with the larger\n",
    "        while (i < len(smaller)) and (j < len(larger)):\n",
    "# pale, ple\n",
    "            #letters matches\n",
    "            if smaller[i] == larger[j]:\n",
    "                i += 1\n",
    "                j += 1\n",
    "                continue\n",
    "            \n",
    "            #letters does not match\n",
    "            elif smaller[i] != larger[j]:\n",
    "\n",
    "                #flag the difference\n",
    "                differences += 1\n",
    "                \n",
    "                #input and remove\n",
    "                if len(smaller) != len(larger):\n",
    "                #change indexes to check j at the next index\n",
    "                    j += 1\n",
    "                \n",
    "                #replace, move on to next letter in both strings\n",
    "                else:\n",
    "                    i += 1\n",
    "                    j += 1\n",
    "\n",
    "                #check if differences exceed 1\n",
    "                if differences <2:\n",
    "                    return False\n",
    "\n",
    "        return True\n",
    "\n",
    "\n",
    "        #replace\n",
    "\n",
    "        \n",
    "        "
   ]
  },
  {
   "cell_type": "code",
   "execution_count": 49,
   "id": "f2fb6b5e",
   "metadata": {},
   "outputs": [
    {
     "data": {
      "text/plain": [
       "False"
      ]
     },
     "execution_count": 49,
     "metadata": {},
     "output_type": "execute_result"
    }
   ],
   "source": [
    "#START WITH BREAKING IT INTO THREE STEPS, INSERT, REMOVE, REPLACE\n",
    "\n",
    "# pale, ple -> true (insert)\n",
    "# ple, pale -> true (remove)\n",
    "# pales, pale -> true (insert)\n",
    "# pale, bale -> true  (replace)\n",
    "# pale, pate -> true (replace)\n",
    "# pale, bake -> false \n",
    "# pale, bales -> false    \n",
    "\n",
    "one_away(\"pale\",\"ple\")"
   ]
  },
  {
   "cell_type": "code",
   "execution_count": 24,
   "id": "e68434d0",
   "metadata": {},
   "outputs": [
    {
     "data": {
      "text/plain": [
       "'test'"
      ]
     },
     "execution_count": 24,
     "metadata": {},
     "output_type": "execute_result"
    }
   ],
   "source": [
    "min('test','testing')"
   ]
  },
  {
   "cell_type": "code",
   "execution_count": 28,
   "id": "7fb3f428",
   "metadata": {},
   "outputs": [
    {
     "data": {
      "text/plain": [
       "'hest'"
      ]
     },
     "execution_count": 28,
     "metadata": {},
     "output_type": "execute_result"
    }
   ],
   "source": [
    "x = 'test'\n",
    "y = 'hest'\n",
    "min(x,y)"
   ]
  },
  {
   "cell_type": "code",
   "execution_count": null,
   "id": "39dc810c",
   "metadata": {},
   "outputs": [],
   "source": [
    "#START WITH BREAKING IT INTO THREE STEPS, INSERT, REMOVE, REPLACE\n",
    "\n",
    "def one_away(string1,string2):\n",
    "    \n",
    "    #rule out examples that are definitely more than one away\n",
    "    if (len(string2) > len(string1)+1) or (len(string2) < len(string1)-1):\n",
    "        return False\n",
    "    \n",
    "    #exact same string (0 edits)\n",
    "    if string2 == string1:\n",
    "        return True\n",
    "    \n",
    "    #check for one away edits\n",
    "    elif string2 != string1:\n",
    "\n",
    "        #check for size difference\n",
    "        smaller = min(string1,string2)\n",
    "        larger = max(string1,string2)\n",
    "\n",
    "        differences = 0 #count of edits\n",
    "        i = 0 #index for smaller string\n",
    "        j = 0 #index for larger string\n",
    "\n",
    "        #iterate through the smaller string, and see how much matches with the larger\n",
    "        For i in range(o,len(smaller)):\n",
    "        # pale, ple\n",
    "        \n",
    "            #letters matches\n",
    "            if smaller[i] == larger[j]:\n",
    "                i += 1\n",
    "                j += 1\n",
    "                continue\n",
    "            \n",
    "            #letters does not match\n",
    "            elif smaller[i] != larger[j]:\n",
    "\n",
    "                #flag the difference\n",
    "                differences += 1\n",
    "                \n",
    "                #input and remove\n",
    "                if len(smaller) != len(larger):\n",
    "                #change indexes to check j at the next index\n",
    "                    j += 1\n",
    "                \n",
    "                #replace, move on to next letter in both strings\n",
    "                else:\n",
    "                    i += 1\n",
    "                    j += 1\n",
    "\n",
    "                #check if differences exceed 1\n",
    "                if differences <2:\n",
    "                else:\n",
    "                    return False\n",
    "\n",
    "        return True\n",
    "\n",
    "\n",
    "        #replace\n",
    "\n",
    "        \n",
    "        "
   ]
  },
  {
   "cell_type": "markdown",
   "id": "b9b43fe6",
   "metadata": {},
   "source": [
    "1.6 String Compression: Implement a method to perform basic string compression using the counts of repeated characters. For example, the string aabcccccaaa would become a2b1c5a3. If the \"compressed\" string would not become smaller than the original string, your method should return the original string. You can assume the string has only uppercase and lowercase letters (a-z)"
   ]
  },
  {
   "cell_type": "code",
   "execution_count": 50,
   "id": "8cfb6809",
   "metadata": {},
   "outputs": [],
   "source": [
    "#First thought, create a dictionary with the character as the key, and the count as the value.\n",
    "#Return a string of the concatenated dictionary keys and values\n",
    "\n",
    "#for the second condition we want to verify there are not more than 2 occurences for each character (more compicated)\n",
    "#we should do this conditional check before creating the new concatenated string\n",
    "\n",
    "#on second thought... we need to be able to handle the a's at the beginning and a's at the end differently\n",
    "#we need to take the index, poisition, into account\n",
    "\n",
    "#try using flag and counter\n",
    "# mark the first char as current_char, and add one to the counter\n",
    "# check if next char is the same as current_char, if it is, add one to the count\n",
    "# if its not, add current char to dictionary as a key, and count as a value\n",
    "# change current_char to the new char, and reset the count to 1\n",
    "#repeat the process\n",
    "\n"
   ]
  },
  {
   "cell_type": "code",
   "execution_count": 6,
   "id": "6c753676",
   "metadata": {},
   "outputs": [],
   "source": [
    "# aabcccccaaa would become a2b1c5a3\n",
    "\n",
    "def string_compression(s):\n",
    "    \n",
    "    i = 0 #index1\n",
    "    j = 1 #index2, starts at 1\n",
    "    characters = [] \n",
    "    \n",
    "    #iterate through each character in string\n",
    "    while i < len(s) and j < len(s):\n",
    "        \n",
    "        #char, and following char are equal\n",
    "        if s[i] == s[j]:\n",
    "            \n",
    "            j += 1 #iterate j\n",
    "        \n",
    "        #char, and following char are not equal\n",
    "        else:\n",
    "            #using extend() method to append multiple items at once\n",
    "            characters.extend([s[i],str(j-i)]) #log the starting index, the letter, and the number of occurences (j-i)\n",
    "            i = j #reset i to j\n",
    "            j = i+1 #reset j\n",
    "    \n",
    "    #need to handle last letters\n",
    "    characters.extend([s[i],str(j-i)]) #adding last letter\n",
    "    \n",
    "    #for simplicity, I will compare the original string to the compressed string in length, and choose which to print\n",
    "    \n",
    "    #create compressed string\n",
    "   \n",
    "    compressed_string = ''.join(characters)\n",
    "\n",
    "    #ensure it is a smaller length\n",
    "    if len(compressed_string) < len(s):\n",
    "        return compressed_string\n",
    "    else:\n",
    "        return s\n",
    "\n",
    "        \n",
    "    "
   ]
  },
  {
   "cell_type": "code",
   "execution_count": 7,
   "id": "c58b76c2",
   "metadata": {},
   "outputs": [
    {
     "data": {
      "text/plain": [
       "'a2b1c5a3'"
      ]
     },
     "execution_count": 7,
     "metadata": {},
     "output_type": "execute_result"
    }
   ],
   "source": [
    "string_compression('aabcccccaaa')"
   ]
  },
  {
   "cell_type": "code",
   "execution_count": 10,
   "id": "47e031ae",
   "metadata": {},
   "outputs": [
    {
     "data": {
      "text/plain": [
       "'abcfghy'"
      ]
     },
     "execution_count": 10,
     "metadata": {},
     "output_type": "execute_result"
    }
   ],
   "source": [
    "string_compression('abcfghy')"
   ]
  },
  {
   "cell_type": "markdown",
   "id": "e04bbce1",
   "metadata": {},
   "source": [
    "1.7 Rotate Matrix: Given an image represented by an N x N Matrix, where each pixel in the image is represented by an integer, write a method to rotate the image by 90 degrees. Can you do this in place?\n",
    "\n",
    "note: In-place means that the algorithm does not use extra space for manipulating the input but may require a small though nonconstant extra space for its operation. Usually, this space is O (log n), though sometimes anything in o (n) (Smaller than linear) is allowed [Source : Wikipedia]"
   ]
  },
  {
   "cell_type": "code",
   "execution_count": 11,
   "id": "0b58736c",
   "metadata": {},
   "outputs": [],
   "source": [
    "#rotating the image by 90 degrees, means rotating the integers by 90 degrees i.e.\n",
    "#  1 2 3               7 4 1\n",
    "#  4 5 6               8 5 2\n",
    "#  7 8 9  would become 9 6 3 \n",
    "\n",
    "#think of the matrix just using lists, we could think of it as 3 lists within a list, each list a matrix row\n",
    "# matrix = [[1,2,3],[4,5,6],[7,8,9]] -> rotated_matrix = [[7,4,1],[8,5,2],[9,6,3]]\n",
    "\n",
    "#find an algorithm to do the above transformation\n",
    "#in short, the rows become the columns. row 1, becomes column 3, row 2 becomes column 2, row 3 becomes column 1\n",
    "#the row number becomes the old column number, and the new column number becomes -1\n",
    "\n",
    "#so if my first list represents row 1, each item should be distributed to the last item in each list (index -1)\n",
    "# second list would be index -2, \n",
    "#third list would be index -3 (N) \n",
    "\n",
    "#algorithm could look something like this:\n",
    "\n",
    "#use two indexes to iterate, forwards through each row (list), and backwards through each column (index for list within list)\n",
    "#for item in matrix[0] (first row) move item to index -1\n",
    "\n",
    "#after reflection, we need to swap two numbers at a time, so that we don't overwrite the integers before were finished rotating\n",
    "#use pop() method\n",
    "\n",
    "#pop the starting integer, and the integer at it's target location\n"
   ]
  },
  {
   "cell_type": "code",
   "execution_count": 15,
   "id": "0eb7ea4e",
   "metadata": {},
   "outputs": [],
   "source": [
    "my_matrix = [[1,2,3],[4,5,6],[7,8,9]]"
   ]
  },
  {
   "cell_type": "code",
   "execution_count": 16,
   "id": "520b37ac",
   "metadata": {},
   "outputs": [
    {
     "data": {
      "text/plain": [
       "3"
      ]
     },
     "execution_count": 16,
     "metadata": {},
     "output_type": "execute_result"
    }
   ],
   "source": [
    "len(my_matrix)"
   ]
  },
  {
   "cell_type": "code",
   "execution_count": 61,
   "id": "d612cb7f",
   "metadata": {},
   "outputs": [],
   "source": [
    "def rotate_matrix(matrix):\n",
    "    \n",
    "    print(\"starting with: \")\n",
    "    for row in matrix:\n",
    "        print(row)\n",
    "    \n",
    "    n = len(matrix)\n",
    "    j = 0\n",
    "    \n",
    "    #create new matrix, and fill it with rotated values\n",
    "    rotated_matrix = list()\n",
    "    \n",
    "    for row in range(0,n): #row is our starting index for row\n",
    "        \n",
    "        i = 0 #i is the row index for rotated integer\n",
    "        j -= 1 #j is the col index for rotated integer (-1 will start at the end)\n",
    "        \n",
    "        for col in range(0,n): #col is our starting index for col\n",
    "\n",
    "            #swap columns and rows\n",
    "            matrix[i][j] = matrix[row][col]\n",
    "            \n",
    "            matrix[0][-1] = matrix[0][0]\n",
    "            \n",
    "            i += 1\n",
    "        \n",
    " \n",
    "        \n",
    "    \n",
    "\n",
    "    print(\"after rotation:\")\n",
    "    for row in matrix:\n",
    "        print(row)\n",
    "            \n",
    "            \n",
    "#grab each item (row,col), and make     \n",
    "    \n",
    "    \n",
    "    "
   ]
  },
  {
   "cell_type": "code",
   "execution_count": 62,
   "id": "5e4ecfe1",
   "metadata": {},
   "outputs": [
    {
     "name": "stdout",
     "output_type": "stream",
     "text": [
      "starting with: \n",
      "[1, 2, 3]\n",
      "[4, 5, 6]\n",
      "[7, 8, 9]\n",
      "after rotation:\n",
      "[3, 6, 9]\n",
      "[6, 5, 8]\n",
      "[3, 6, 3]\n"
     ]
    }
   ],
   "source": [
    "rotate_matrix([[1,2,3],[4,5,6],[7,8,9]])"
   ]
  },
  {
   "cell_type": "code",
   "execution_count": 78,
   "id": "0a64e6e9",
   "metadata": {},
   "outputs": [
    {
     "ename": "TypeError",
     "evalue": "list expected at most 1 argument, got 2",
     "output_type": "error",
     "traceback": [
      "\u001b[1;31m---------------------------------------------------------------------------\u001b[0m",
      "\u001b[1;31mTypeError\u001b[0m                                 Traceback (most recent call last)",
      "\u001b[1;32m<ipython-input-78-872ae89e8935>\u001b[0m in \u001b[0;36m<module>\u001b[1;34m\u001b[0m\n\u001b[0;32m      1\u001b[0m \u001b[0mmy_matrix\u001b[0m \u001b[1;33m=\u001b[0m \u001b[1;33m[\u001b[0m\u001b[1;33m[\u001b[0m\u001b[1;36m1\u001b[0m\u001b[1;33m,\u001b[0m\u001b[1;36m2\u001b[0m\u001b[1;33m,\u001b[0m\u001b[1;36m3\u001b[0m\u001b[1;33m]\u001b[0m\u001b[1;33m,\u001b[0m\u001b[1;33m[\u001b[0m\u001b[1;36m4\u001b[0m\u001b[1;33m,\u001b[0m\u001b[1;36m5\u001b[0m\u001b[1;33m,\u001b[0m\u001b[1;36m6\u001b[0m\u001b[1;33m]\u001b[0m\u001b[1;33m,\u001b[0m\u001b[1;33m[\u001b[0m\u001b[1;36m7\u001b[0m\u001b[1;33m,\u001b[0m\u001b[1;36m8\u001b[0m\u001b[1;33m,\u001b[0m\u001b[1;36m9\u001b[0m\u001b[1;33m]\u001b[0m\u001b[1;33m]\u001b[0m\u001b[1;33m\u001b[0m\u001b[1;33m\u001b[0m\u001b[0m\n\u001b[1;32m----> 2\u001b[1;33m \u001b[0mrotated_matrix\u001b[0m \u001b[1;33m=\u001b[0m \u001b[0mlist\u001b[0m\u001b[1;33m(\u001b[0m\u001b[1;36m3\u001b[0m\u001b[1;33m,\u001b[0m\u001b[1;36m2\u001b[0m\u001b[1;33m)\u001b[0m\u001b[1;33m\u001b[0m\u001b[1;33m\u001b[0m\u001b[0m\n\u001b[0m\u001b[0;32m      3\u001b[0m \u001b[1;33m\u001b[0m\u001b[0m\n\u001b[0;32m      4\u001b[0m \u001b[1;32mfor\u001b[0m \u001b[0mrow\u001b[0m \u001b[1;32min\u001b[0m \u001b[0mmy_matrix\u001b[0m\u001b[1;33m:\u001b[0m\u001b[1;33m\u001b[0m\u001b[1;33m\u001b[0m\u001b[0m\n\u001b[0;32m      5\u001b[0m     \u001b[0mprint\u001b[0m\u001b[1;33m(\u001b[0m\u001b[0mrow\u001b[0m\u001b[1;33m)\u001b[0m\u001b[1;33m\u001b[0m\u001b[1;33m\u001b[0m\u001b[0m\n",
      "\u001b[1;31mTypeError\u001b[0m: list expected at most 1 argument, got 2"
     ]
    }
   ],
   "source": [
    "my_matrix = [[1,2,3],[4,5,6],[7,8,9]]\n",
    "rotated_matrix = list(3,2)\n",
    "\n",
    "for row in my_matrix:\n",
    "    print(row)\n",
    "\n",
    "rotated_matrix[0][-1] = my_matrix[0][0]\n",
    "    \n",
    "print(\"after rotation:\")\n",
    "for row in rotated_matrix:\n",
    "    print(row)    \n",
    "    \n",
    "#issue is that it's going one at a time, not all at once"
   ]
  },
  {
   "cell_type": "markdown",
   "id": "3fe3f2aa",
   "metadata": {},
   "source": [
    "1.8 Zero Matrix: Write an algorithm such that if an element in an M x N matrix is 0, it's entire row and column are set to 0."
   ]
  },
  {
   "cell_type": "code",
   "execution_count": 79,
   "id": "9ae0f701",
   "metadata": {},
   "outputs": [],
   "source": [
    "# 1 0 3     0 0 0\n",
    "# 1 4 2 --> 1 0 2\n",
    "# 2 0 1     0 0 0\n",
    "\n",
    "#First thought, go through each item in the matrix, and if there is a 0, note its position (row and col index) in a list\n",
    "#check the list to see which rows and columns appear\n",
    "#make every element in those rows and columns zeros\n",
    "\n",
    "#after coming to a solution, I see there is an interesting hint: Can you reduce the additional space ossage to 0(1) by\n",
    "# using the matrix itself for data storage?\n",
    "\n",
    "\n",
    "\n"
   ]
  },
  {
   "cell_type": "code",
   "execution_count": 96,
   "id": "affb44e6",
   "metadata": {},
   "outputs": [],
   "source": [
    "def zero_matrix(matrix):\n",
    "    \n",
    "    m = len(matrix) # number of rows, m\n",
    "    n = len(matrix[0]) #number of columns\n",
    "    \n",
    "    #For each item in matrix, see if its a 0 and then note the row and column\n",
    "    \n",
    "    row_0 = []\n",
    "    col_0 = []\n",
    "    \n",
    "    for i in range(0,m):\n",
    "        \n",
    "        for j in range(0,n):\n",
    "            if matrix[i][j] == 0:\n",
    "                row_0.append(i)\n",
    "                col_0.append(j)\n",
    "                \n",
    "    #make each item in the zero rows 0, and each item in the zero columns 0\n",
    "    for row in row_0:\n",
    "        \n",
    "        col = 0\n",
    "        \n",
    "        while col < n:\n",
    "            matrix[row][col] = 0 # set to 0\n",
    "            col += 1\n",
    "    \n",
    "    for col in col_0:\n",
    "        \n",
    "        row = 0\n",
    "        \n",
    "        while row < m:\n",
    "            matrix[row][col] = 0\n",
    "            row += 1\n",
    "            \n",
    "    for row in matrix:\n",
    "        print(row)\n",
    "        \n",
    "  \n",
    "  \n",
    "    \n",
    "    "
   ]
  },
  {
   "cell_type": "code",
   "execution_count": 97,
   "id": "9f428e96",
   "metadata": {},
   "outputs": [
    {
     "name": "stdout",
     "output_type": "stream",
     "text": [
      "[0, 0, 0]\n",
      "[1, 0, 2]\n",
      "[0, 0, 0]\n"
     ]
    }
   ],
   "source": [
    "zero_matrix([[1,0,3],[1,4,2],[2,0,1]])"
   ]
  },
  {
   "cell_type": "code",
   "execution_count": 98,
   "id": "b9ef6091",
   "metadata": {},
   "outputs": [
    {
     "name": "stdout",
     "output_type": "stream",
     "text": [
      "[0, 0, 0]\n",
      "[1, 4, 0]\n",
      "[2, 7, 0]\n"
     ]
    }
   ],
   "source": [
    "zero_matrix([[1,1,0],[1,4,2],[2,7,1]])"
   ]
  },
  {
   "cell_type": "code",
   "execution_count": 99,
   "id": "c315d05c",
   "metadata": {},
   "outputs": [
    {
     "name": "stdout",
     "output_type": "stream",
     "text": [
      "[0, 0, 0]\n",
      "[0, 4, 0]\n",
      "[0, 0, 0]\n"
     ]
    }
   ],
   "source": [
    "zero_matrix([[0,1,3],[1,4,2],[2,5,0]])"
   ]
  },
  {
   "cell_type": "markdown",
   "id": "2ff821e6",
   "metadata": {},
   "source": [
    "1.9 String Rotation: Assume you have a method isSubstring which checks if one word is a substring of another. Given two strings, s1 and s2, write code to check if s2 is a rotation of s1 using only one call to isSubstring (e.g. \"waterbottle\" is a rotation of \"erbottlewat\")"
   ]
  },
  {
   "cell_type": "code",
   "execution_count": 100,
   "id": "79101d6f",
   "metadata": {},
   "outputs": [],
   "source": [
    "#Q: what does it mean for a string to be rotated?\n",
    "#both strings have same length\n",
    "#Assuming this means letters can be moved from the front to the end, or the end to the front\n",
    "#at some point performing one of these two shifts would yield the exact same string\n",
    "\n",
    "#Q: at what point would we want to use isSubstring? My guess is we can use this to cut down on searching / verifying steps\n",
    "#for example, substring \"bottle\"\n",
    "\n",
    "\n",
    "#First thought for algorithm:\n",
    "#verify length of strings are equal\n",
    "\n",
    "#brute force way:\n",
    "#using i as an iterator\n",
    "#while string 1 not equal to string 2, and i < length(string2) pop first item of string 2, and append to the end of string 2 \n",
    "#check if the strings are equal"
   ]
  },
  {
   "cell_type": "code",
   "execution_count": 105,
   "id": "9a634cd8",
   "metadata": {},
   "outputs": [
    {
     "data": {
      "text/plain": [
       "False"
      ]
     },
     "execution_count": 105,
     "metadata": {},
     "output_type": "execute_result"
    }
   ],
   "source": [
    "list1 = ['h','e','l','l','o']\n",
    "list2 = ['e','l','l','o','h']\n",
    "list1 == list2"
   ]
  },
  {
   "cell_type": "code",
   "execution_count": 111,
   "id": "f16de711",
   "metadata": {},
   "outputs": [],
   "source": [
    "#starting with bruteforce way\n",
    "\n",
    "def string_rotation(s1,s2):\n",
    "    \n",
    "    if len(s1) != len(s2):\n",
    "        print(\"nope!\")\n",
    "        return False\n",
    "    \n",
    "    #Check if strings are identical, if not, iterate through a series of pop and append\n",
    "    if s1 == s2:\n",
    "        print(\"Yes they are the same string!\")\n",
    "        return True\n",
    "    \n",
    "    else:\n",
    "        string1 = list(s1)\n",
    "        string2 = list(s2)\n",
    "        i = 0\n",
    "    \n",
    "        for i in range(0,len(s1)):\n",
    "        \n",
    "            if string1 == string2:\n",
    "                print(\"yep! string rotation\")\n",
    "                return True\n",
    "        \n",
    "            else:\n",
    "                #shift from front to back\n",
    "                x = string2.pop(0) \n",
    "                string2.append(x)\n",
    "                print(string2)\n",
    "                i += 1\n",
    "        \n",
    "        print(\"nope. sorry.\")\n",
    "        return False\n",
    "            \n",
    "        \n",
    "  \n",
    "\n",
    " #simpler solution. Concatenate string 2 to itself, then use isSubstring()\n",
    "    \n",
    "    "
   ]
  },
  {
   "cell_type": "code",
   "execution_count": 115,
   "id": "39618216",
   "metadata": {},
   "outputs": [
    {
     "name": "stdout",
     "output_type": "stream",
     "text": [
      "['r', 'b', 'o', 't', 't', 'l', 'e', 'w', 'a', 't', 'e']\n",
      "['b', 'o', 't', 't', 'l', 'e', 'w', 'a', 't', 'e', 'r']\n",
      "['o', 't', 't', 'l', 'e', 'w', 'a', 't', 'e', 'r', 'b']\n",
      "['t', 't', 'l', 'e', 'w', 'a', 't', 'e', 'r', 'b', 'o']\n",
      "['t', 'l', 'e', 'w', 'a', 't', 'e', 'r', 'b', 'o', 't']\n",
      "['l', 'e', 'w', 'a', 't', 'e', 'r', 'b', 'o', 't', 't']\n",
      "['e', 'w', 'a', 't', 'e', 'r', 'b', 'o', 't', 't', 'l']\n",
      "['w', 'a', 't', 'e', 'r', 'b', 'o', 't', 't', 'l', 'e']\n",
      "yep! string rotation\n"
     ]
    },
    {
     "data": {
      "text/plain": [
       "True"
      ]
     },
     "execution_count": 115,
     "metadata": {},
     "output_type": "execute_result"
    }
   ],
   "source": [
    "#(e.g. \"waterbottle\" is a rotation of \"erbottlewat\")\n",
    "string_rotation(\"waterbottle\",\"erbottlewat\")"
   ]
  },
  {
   "cell_type": "code",
   "execution_count": null,
   "id": "37f3d9a4",
   "metadata": {},
   "outputs": [],
   "source": []
  }
 ],
 "metadata": {
  "kernelspec": {
   "display_name": "Python 3",
   "language": "python",
   "name": "python3"
  },
  "language_info": {
   "codemirror_mode": {
    "name": "ipython",
    "version": 3
   },
   "file_extension": ".py",
   "mimetype": "text/x-python",
   "name": "python",
   "nbconvert_exporter": "python",
   "pygments_lexer": "ipython3",
   "version": "3.8.8"
  }
 },
 "nbformat": 4,
 "nbformat_minor": 5
}
